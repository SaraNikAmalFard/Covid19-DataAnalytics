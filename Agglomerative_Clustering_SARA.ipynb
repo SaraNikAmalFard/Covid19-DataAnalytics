{
 "cells": [
  {
   "cell_type": "code",
   "execution_count": null,
   "metadata": {},
   "outputs": [],
   "source": []
  },
  {
   "cell_type": "code",
   "execution_count": 9,
   "metadata": {},
   "outputs": [],
   "source": [
    "import numpy as np\n",
    "import pandas as pd\n",
    "#Reading the dataset\n",
    "data= pd.read_excel('C:/Users/frequency/Desktop/COVID-19-geographic-disbtribution-worldwide-2020-12-14.xlsx')\n",
    "\n",
    "data= data.to_numpy()\n",
    "from sklearn.impute import MissingIndicator\n",
    "\n",
    "#Dealing with missing data\n",
    "indi= MissingIndicator(features='all')\n",
    "i= indi.fit_transform(data)\n",
    "j=0\n",
    "while j<61900:\n",
    "    k=0\n",
    "    while k<11:\n",
    "        if i[j,k]==True:\n",
    "            data[j,k]='?'\n",
    "            k+=1\n",
    "        else:\n",
    "            k+=1\n",
    "    j+=1\n",
    "indi= MissingIndicator()\n",
    "i= indi.fit_transform(data)\n",
    "\n",
    "A= np.concatenate((data[:,5:8], data[:,9:10]),axis=1)\n",
    "from sklearn.preprocessing import OrdinalEncoder\n",
    "encoder= OrdinalEncoder()\n",
    "A= encoder.fit_transform(A)\n",
    "B= encoder.categories_\n",
    "\n",
    "j=0\n",
    "while j<61900:\n",
    "    k=0\n",
    "    while k<4:\n",
    "        if A[j,k]==0:\n",
    "            A[j,k]=np.nan\n",
    "            k+=1\n",
    "        else:\n",
    "            k+=1\n",
    "    j+=1\n",
    "\n",
    "data= np.concatenate((data[:,:5], data[:,8:9], data[:, 10:11], A), axis=1)\n",
    "j=0\n",
    "while j<61900:\n",
    "    k=0\n",
    "    while k<11:\n",
    "        if data[j,k]=='?':\n",
    "            data[j,k]=np.nan\n",
    "            k+=1\n",
    "        else:\n",
    "            k+=1\n",
    "    j+=1\n",
    "\n",
    "    #Replacing missing data using KNN Imputer\n",
    "from sklearn.impute import KNNImputer\n",
    "imputer=KNNImputer()\n",
    "data= imputer.fit_transform(data)\n",
    "\n",
    "data= pd.DataFrame(data)\n",
    "corr= data.corr()"
   ]
  },
  {
   "cell_type": "code",
   "execution_count": 17,
   "metadata": {},
   "outputs": [
    {
     "data": {
      "text/plain": [
       "(61900, 11)"
      ]
     },
     "execution_count": 17,
     "metadata": {},
     "output_type": "execute_result"
    }
   ],
   "source": [
    "data.shape"
   ]
  },
  {
   "cell_type": "code",
   "execution_count": 13,
   "metadata": {},
   "outputs": [],
   "source": [
    "#Normalizing the data\n",
    "from sklearn.preprocessing import StandardScaler\n",
    "Scaler= StandardScaler()\n",
    "Scaler.fit (data)\n",
    "data_trans= Scaler.transform (data)"
   ]
  },
  {
   "cell_type": "code",
   "execution_count": 27,
   "metadata": {},
   "outputs": [
    {
     "data": {
      "text/plain": [
       "array([0, 0, 0, ..., 1, 1, 1], dtype=int64)"
      ]
     },
     "execution_count": 27,
     "metadata": {},
     "output_type": "execute_result"
    }
   ],
   "source": [
    "#Agglomerative Hierarchical Clustering with 3 clusters for each lockdown type\n",
    "from sklearn.cluster import AgglomerativeClustering\n",
    "clustering= AgglomerativeClustering(n_clusters=3).fit(data_trans)\n",
    "clustering.labels_"
   ]
  },
  {
   "cell_type": "code",
   "execution_count": 33,
   "metadata": {},
   "outputs": [],
   "source": [
    "data2=pd.DataFrame(clustering.labels_)"
   ]
  },
  {
   "cell_type": "code",
   "execution_count": 34,
   "metadata": {},
   "outputs": [],
   "source": [
    "#Orodusing the new excel file that includes labels (0,1,2) for each corresponding lockdown type\n",
    "data2.to_excel('C:/Users/frequency/Desktop/data2.xlsx')"
   ]
  },
  {
   "cell_type": "code",
   "execution_count": 1,
   "metadata": {},
   "outputs": [],
   "source": [
    "#Reading in the new data set\n",
    "import numpy as np\n",
    "import pandas as pd\n",
    "data= pd.read_excel('C:/Users/frequency/Desktop/data2.xlsx')"
   ]
  },
  {
   "cell_type": "code",
   "execution_count": 2,
   "metadata": {},
   "outputs": [
    {
     "data": {
      "text/plain": [
       "(61900, 2)"
      ]
     },
     "execution_count": 2,
     "metadata": {},
     "output_type": "execute_result"
    }
   ],
   "source": [
    "data.shape"
   ]
  },
  {
   "cell_type": "code",
   "execution_count": 15,
   "metadata": {},
   "outputs": [],
   "source": [
    "data1= data.values\n",
    "X= data1[:,:1]\n",
    "y= data1 [:,1:2]"
   ]
  },
  {
   "cell_type": "code",
   "execution_count": null,
   "metadata": {},
   "outputs": [],
   "source": []
  },
  {
   "cell_type": "code",
   "execution_count": 16,
   "metadata": {},
   "outputs": [
    {
     "data": {
      "text/plain": [
       "array([[    0],\n",
       "       [    1],\n",
       "       [    2],\n",
       "       ...,\n",
       "       [61897],\n",
       "       [61898],\n",
       "       [61899]], dtype=int64)"
      ]
     },
     "execution_count": 16,
     "metadata": {},
     "output_type": "execute_result"
    }
   ],
   "source": [
    "X"
   ]
  },
  {
   "cell_type": "code",
   "execution_count": 17,
   "metadata": {},
   "outputs": [
    {
     "data": {
      "text/plain": [
       "array([[0],\n",
       "       [0],\n",
       "       [0],\n",
       "       ...,\n",
       "       [1],\n",
       "       [1],\n",
       "       [1]], dtype=int64)"
      ]
     },
     "execution_count": 17,
     "metadata": {},
     "output_type": "execute_result"
    }
   ],
   "source": [
    "y"
   ]
  },
  {
   "cell_type": "code",
   "execution_count": 25,
   "metadata": {},
   "outputs": [
    {
     "data": {
      "image/png": "[encoded data removed]",
      "text/plain": [
       "<Figure size 576x576 with 1 Axes>"
      ]
     },
     "metadata": {
      "needs_background": "light"
     },
     "output_type": "display_data"
    }
   ],
   "source": [
    "import matplotlib.pyplot as plt\n",
    "plt.figure(figsize=(8,8))\n",
    "plt.scatter(X, y, c=y)\n",
    "plt.xlabel('case number')\n",
    "plt.ylabel('clustering labels')\n",
    "plt.show()\n"
   ]
  },
  {
   "cell_type": "code",
   "execution_count": 1,
   "metadata": {},
   "outputs": [],
   "source": [
    "import numpy as np\n",
    "import pandas as pd\n",
    "data= pd.read_excel('C:/Users/frequency/Desktop/2.xlsx')"
   ]
  },
  {
   "cell_type": "code",
   "execution_count": 29,
   "metadata": {},
   "outputs": [
    {
     "name": "stdout",
     "output_type": "stream",
     "text": [
      "Original Array :\n"
     ]
    }
   ],
   "source": [
    "data1= data.values\n",
    "X= data1[:,4:5]\n",
    "y= data1 [:,11:12]\n",
    "df= pd.DataFrame(X)\n",
    "print (\"Original Array :\")"
   ]
  },
  {
   "cell_type": "code",
   "execution_count": 30,
   "metadata": {},
   "outputs": [
    {
     "name": "stdout",
     "output_type": "stream",
     "text": [
      "New Array :\n"
     ]
    }
   ],
   "source": [
    "#Removing negative values from the dataset\n",
    "df[df < 0] = 0\n",
    "print(\"New Array :\")"
   ]
  },
  {
   "cell_type": "code",
   "execution_count": 31,
   "metadata": {},
   "outputs": [
    {
     "data": {
      "text/plain": [
       "array([[6],\n",
       "       [9],\n",
       "       [11],\n",
       "       ...,\n",
       "       [0],\n",
       "       [0],\n",
       "       [0]], dtype=object)"
      ]
     },
     "execution_count": 31,
     "metadata": {},
     "output_type": "execute_result"
    }
   ],
   "source": [
    "X"
   ]
  },
  {
   "cell_type": "code",
   "execution_count": 32,
   "metadata": {},
   "outputs": [
    {
     "data": {
      "text/plain": [
       "array([[0],\n",
       "       [0],\n",
       "       [0],\n",
       "       ...,\n",
       "       [1],\n",
       "       [1],\n",
       "       [1]], dtype=object)"
      ]
     },
     "execution_count": 32,
     "metadata": {},
     "output_type": "execute_result"
    }
   ],
   "source": [
    "y"
   ]
  },
  {
   "cell_type": "code",
   "execution_count": 33,
   "metadata": {},
   "outputs": [
    {
     "data": {
      "image/png": "[encoded data removed]",
      "text/plain": [
       "<Figure size 576x576 with 1 Axes>"
      ]
     },
     "metadata": {
      "needs_background": "light"
     },
     "output_type": "display_data"
    }
   ],
   "source": [
    "# Observing the death ratios based on each lockdown type \n",
    "import matplotlib.pyplot as plt\n",
    "plt.figure(figsize=(8,8))\n",
    "plt.scatter(X, y, c=y)\n",
    "plt.xlabel('deaths')\n",
    "plt.ylabel('clustering labels')\n",
    "plt.show()"
   ]
  },
  {
   "cell_type": "code",
   "execution_count": null,
   "metadata": {},
   "outputs": [],
   "source": []
  }
 ],
 "metadata": {
  "kernelspec": {
   "display_name": "Python 3",
   "language": "python",
   "name": "python3"
  },
  "language_info": {
   "codemirror_mode": {
    "name": "ipython",
    "version": 3
   },
   "file_extension": ".py",
   "mimetype": "text/x-python",
   "name": "python",
   "nbconvert_exporter": "python",
   "pygments_lexer": "ipython3",
   "version": "3.8.5"
  }
 },
 "nbformat": 4,
 "nbformat_minor": 5
}
