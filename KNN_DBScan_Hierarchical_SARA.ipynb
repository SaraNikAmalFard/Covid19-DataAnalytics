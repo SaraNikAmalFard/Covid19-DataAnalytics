{
 "cells": [
  {
   "cell_type": "code",
   "execution_count": 1,
   "metadata": {
    "id": "hwbz-8skA8jJ"
   },
   "outputs": [],
   "source": [
    "import numpy as np\n",
    "import pandas as pd\n",
    "\n",
    "from sklearn.model_selection import train_test_split\n",
    "from sklearn.preprocessing import MinMaxScaler, LabelEncoder\n",
    "from sklearn.neighbors import KNeighborsClassifier\n",
    "from sklearn.cluster import DBSCAN\n",
    "from sklearn import metrics\n",
    "from keras.utils import to_categorical\n",
    "#from sklearn.datasets.samples_generator import make_blobs\n",
    "\n",
    "import matplotlib\n",
    "import matplotlib.pyplot as plt\n",
    "matplotlib.rcParams['figure.figsize'] = (10.0, 5.0)"
   ]
  },
  {
   "cell_type": "code",
   "execution_count": 7,
   "metadata": {
    "colab": {
     "base_uri": "https://localhost:8080/",
     "height": 204
    },
    "id": "SiAu6T8sA8jY",
    "outputId": "f194d770-2836-415b-f73e-2233cb323fc2"
   },
   "outputs": [
    {
     "data": {
      "text/html": [
       "<div>\n",
       "<style scoped>\n",
       "    .dataframe tbody tr th:only-of-type {\n",
       "        vertical-align: middle;\n",
       "    }\n",
       "\n",
       "    .dataframe tbody tr th {\n",
       "        vertical-align: top;\n",
       "    }\n",
       "\n",
       "    .dataframe thead th {\n",
       "        text-align: right;\n",
       "    }\n",
       "</style>\n",
       "<table border=\"1\" class=\"dataframe\">\n",
       "  <thead>\n",
       "    <tr style=\"text-align: right;\">\n",
       "      <th></th>\n",
       "      <th>cases</th>\n",
       "      <th>deaths</th>\n",
       "      <th>continentExp</th>\n",
       "      <th>Cumulative_number_for_14_days_of_COVID-19_cases_per_100000</th>\n",
       "      <th>countriesAndTerritories</th>\n",
       "    </tr>\n",
       "  </thead>\n",
       "  <tbody>\n",
       "    <tr>\n",
       "      <th>0</th>\n",
       "      <td>746</td>\n",
       "      <td>6</td>\n",
       "      <td>Asia</td>\n",
       "      <td>9.013779</td>\n",
       "      <td>Afghanistan</td>\n",
       "    </tr>\n",
       "    <tr>\n",
       "      <th>1</th>\n",
       "      <td>298</td>\n",
       "      <td>9</td>\n",
       "      <td>Asia</td>\n",
       "      <td>7.052776</td>\n",
       "      <td>Afghanistan</td>\n",
       "    </tr>\n",
       "    <tr>\n",
       "      <th>2</th>\n",
       "      <td>113</td>\n",
       "      <td>11</td>\n",
       "      <td>Asia</td>\n",
       "      <td>6.868768</td>\n",
       "      <td>Afghanistan</td>\n",
       "    </tr>\n",
       "    <tr>\n",
       "      <th>3</th>\n",
       "      <td>63</td>\n",
       "      <td>10</td>\n",
       "      <td>Asia</td>\n",
       "      <td>7.134266</td>\n",
       "      <td>Afghanistan</td>\n",
       "    </tr>\n",
       "    <tr>\n",
       "      <th>4</th>\n",
       "      <td>202</td>\n",
       "      <td>16</td>\n",
       "      <td>Asia</td>\n",
       "      <td>6.968658</td>\n",
       "      <td>Afghanistan</td>\n",
       "    </tr>\n",
       "  </tbody>\n",
       "</table>\n",
       "</div>"
      ],
      "text/plain": [
       "   cases  deaths continentExp  \\\n",
       "0    746       6         Asia   \n",
       "1    298       9         Asia   \n",
       "2    113      11         Asia   \n",
       "3     63      10         Asia   \n",
       "4    202      16         Asia   \n",
       "\n",
       "   Cumulative_number_for_14_days_of_COVID-19_cases_per_100000  \\\n",
       "0                                           9.013779            \n",
       "1                                           7.052776            \n",
       "2                                           6.868768            \n",
       "3                                           7.134266            \n",
       "4                                           6.968658            \n",
       "\n",
       "  countriesAndTerritories  \n",
       "0             Afghanistan  \n",
       "1             Afghanistan  \n",
       "2             Afghanistan  \n",
       "3             Afghanistan  \n",
       "4             Afghanistan  "
      ]
     },
     "execution_count": 7,
     "metadata": {},
     "output_type": "execute_result"
    }
   ],
   "source": [
    "main_df = pd.DataFrame()\n",
    "\n",
    "\n",
    "dataset = \"COVID-19-geographic-disbtribution-worldwide-2020-12-14.csv\"\n",
    "df = pd.read_csv(dataset, error_bad_lines=False)\n",
    "\n",
    "#Selecting features of the dataset to be used\n",
    "df = df[[\"cases\", \"deaths\", \"continentExp\", \"Cumulative_number_for_14_days_of_COVID-19_cases_per_100000\", \"countriesAndTerritories\"]]\n",
    "\n",
    "df.dropna(axis = 0, inplace=True)\n",
    "df.head()"
   ]
  },
  {
   "cell_type": "code",
   "execution_count": 8,
   "metadata": {
    "colab": {
     "base_uri": "https://localhost:8080/"
    },
    "id": "CGWKIbSEA8ja",
    "outputId": "97c4f8d8-3110-4db1-f406-4ecb750c55fb"
   },
   "outputs": [
    {
     "name": "stdout",
     "output_type": "stream",
     "text": [
      "Train (47216, 4) (47216,)\n",
      "Test (11805, 4) (11805,)\n"
     ]
    }
   ],
   "source": [
    "labelencoder = LabelEncoder()\n",
    "df['countriesAndTerritories'] = labelencoder.fit_transform(df['countriesAndTerritories'])\n",
    "\n",
    "df = df.sample(frac = 1)\n",
    "dataset = df.values\n",
    "\n",
    "# continent will be predicted, having other 4 features\n",
    "X = dataset[:, [0,1,3,4]]\n",
    "y = dataset[:,2]\n",
    "\n",
    "scaler = MinMaxScaler()\n",
    "scaler.fit(X)\n",
    "\n",
    "#Using %20 of the data as test data and %80 of it as training data\n",
    "X_train, X_test, y_train, y_test = train_test_split(X, y, test_size=0.2, random_state=1)\n",
    "\n",
    "\n",
    "print('Train', X_train.shape, y_train.shape)\n",
    "print('Test', X_test.shape, y_test.shape)\n"
   ]
  },
  {
   "cell_type": "code",
   "execution_count": 9,
   "metadata": {
    "colab": {
     "base_uri": "https://localhost:8080/"
    },
    "id": "guHRLVgY2kb6",
    "outputId": "f7b7f912-76e2-4b94-e1a1-94dbc7989e62"
   },
   "outputs": [
    {
     "name": "stdout",
     "output_type": "stream",
     "text": [
      "Accuracy: 0.8618382041507836\n"
     ]
    }
   ],
   "source": [
    "#Performing KNN model\n",
    "knn = KNeighborsClassifier(n_neighbors=4, weights='distance')\n",
    "knn.fit(X_train, y_train)\n",
    "\n",
    "y_pred = knn.predict(X_test)\n",
    "print(\"Accuracy:\",metrics.accuracy_score(y_test, y_pred))\n",
    "\n"
   ]
  },
  {
   "cell_type": "code",
   "execution_count": 10,
   "metadata": {},
   "outputs": [
    {
     "name": "stdout",
     "output_type": "stream",
     "text": [
      "[0.86116053 0.86716367 0.86292782 0.85699763 0.85826838]\n",
      "0.8613036062262758\n"
     ]
    }
   ],
   "source": [
    "#Performing cross validation to evaluate the accuracy of our predict from the KNN model\n",
    "from sklearn.model_selection import cross_val_score\n",
    "score = cross_val_score(knn, X, y, cv = 5) \n",
    "print(score)\n",
    "print(np.mean(score))"
   ]
  },
  {
   "cell_type": "code",
   "execution_count": 14,
   "metadata": {
    "colab": {
     "base_uri": "https://localhost:8080/"
    },
    "id": "rAb3u4LXMbKi",
    "outputId": "1f0b8a50-f65a-4e3c-9588-5a7c54fdb602"
   },
   "outputs": [
    {
     "name": "stdout",
     "output_type": "stream",
     "text": [
      "Estimated number of clusters: 131\n",
      "Estimated number of noise points: 23987\n",
      "Homogeneity: 0.064\n",
      "Completeness: 0.075\n",
      "V-measure: 0.069\n"
     ]
    }
   ],
   "source": [
    "#DBSCAN model\n",
    "labels_true = y_train\n",
    "#Specifying epsilon and min_samples values\n",
    "model = DBSCAN(eps=3, min_samples=7)\n",
    "db = model.fit(X_train)\n",
    "labels = db.labels_\n",
    "\n",
    "n_clusters_ = len(set(labels)) - (1 if -1 in labels else 0)\n",
    "n_noise_ = list(labels).count(-1)\n",
    "\n",
    "#Calculating number of clusters, outliers and completeness\n",
    "print('Estimated number of clusters: %d' % n_clusters_)\n",
    "print('Estimated number of noise points: %d' % n_noise_)\n",
    "print(\"Homogeneity: %0.3f\" % metrics.homogeneity_score(labels_true, labels))\n",
    "print(\"Completeness: %0.3f\" % metrics.completeness_score(labels_true, labels))\n",
    "print(\"V-measure: %0.3f\" % metrics.v_measure_score(labels_true, labels))\n",
    "\n",
    "#X, y = make_blobs(n_samples=300, centers=3, cluster_std=0.60, random_state=0)\n",
    "#plt.scatter(X[:,0], X[:,1])\n",
    "#x = cases y = deaths"
   ]
  },
  {
   "cell_type": "code",
   "execution_count": 13,
   "metadata": {
    "colab": {
     "base_uri": "https://localhost:8080/",
     "height": 265
    },
    "id": "IDMUVBl9xI2e",
    "outputId": "3778b05b-f3e5-4e8e-b658-87f5cd613dac"
   },
   "outputs": [
    {
     "data": {
      "image/png": "[encoded data removed]",
      "text/plain": [
       "<Figure size 720x576 with 1 Axes>"
      ]
     },
     "metadata": {
      "needs_background": "light"
     },
     "output_type": "display_data"
    }
   ],
   "source": [
    "unique_labels = set(labels)\n",
    "colors = [plt.cm.Spectral(each) for each in np.linspace(0, 1, len(labels))]\n",
    "\n",
    "plt.scatter(X_train[:, 0], X_train[:, 1], c=colors, cmap='rainbow')\n",
    "plt.show()"
   ]
  },
  {
   "cell_type": "code",
   "execution_count": 6,
   "metadata": {
    "colab": {
     "base_uri": "https://localhost:8080/",
     "height": 265
    },
    "id": "Id3W8dnVLXhy",
    "outputId": "ec9ff1ea-e446-402c-ea67-b0e2b579c831"
   },
   "outputs": [
    {
     "data": {
      "image/png": "[encoded data removed]",
      "text/plain": [
       "<Figure size 720x360 with 1 Axes>"
      ]
     },
     "metadata": {
      "needs_background": "light"
     },
     "output_type": "display_data"
    }
   ],
   "source": [
    "#Implementing Agglomerative Hierarchical Clustering based on mean of death and cases \n",
    "import scipy.cluster.hierarchy as sch\n",
    "\n",
    "agg = df.groupby([\"countriesAndTerritories\"]).mean()\n",
    "X = agg.values\n",
    "\n",
    "from sklearn.cluster import AgglomerativeClustering \n",
    "hc = AgglomerativeClustering(n_clusters = 3, affinity = 'euclidean', linkage ='ward')\n",
    "\n",
    "y_hc=hc.fit_predict(X)\n",
    "\n",
    "plt.xlabel('Mean of Cases')\n",
    "plt.ylabel('Mean of Deaths')\n",
    "plt.scatter(X[:, 0], X[:, 1], c=y_hc, cmap='rainbow')\n",
    "plt.show()"
   ]
  },
  {
   "cell_type": "code",
   "execution_count": 9,
   "metadata": {},
   "outputs": [],
   "source": [
    "#aggl = df.groupby([\"countriesAndTerritories\"]).mean()\n",
    "#plt.plot(aggl[\"cases\"], aggl[\"deaths\"])\n",
    "#plt.show()"
   ]
  },
  {
   "cell_type": "code",
   "execution_count": 41,
   "metadata": {},
   "outputs": [
    {
     "data": {
      "text/html": [
       "<div>\n",
       "<style scoped>\n",
       "    .dataframe tbody tr th:only-of-type {\n",
       "        vertical-align: middle;\n",
       "    }\n",
       "\n",
       "    .dataframe tbody tr th {\n",
       "        vertical-align: top;\n",
       "    }\n",
       "\n",
       "    .dataframe thead th {\n",
       "        text-align: right;\n",
       "    }\n",
       "</style>\n",
       "<table border=\"1\" class=\"dataframe\">\n",
       "  <thead>\n",
       "    <tr style=\"text-align: right;\">\n",
       "      <th></th>\n",
       "      <th>cases</th>\n",
       "      <th>deaths</th>\n",
       "      <th>Cumulative_number_for_14_days_of_COVID-19_cases_per_100000</th>\n",
       "    </tr>\n",
       "    <tr>\n",
       "      <th>countriesAndTerritories</th>\n",
       "      <th></th>\n",
       "      <th></th>\n",
       "      <th></th>\n",
       "    </tr>\n",
       "  </thead>\n",
       "  <tbody>\n",
       "    <tr>\n",
       "      <th>0</th>\n",
       "      <td>49273</td>\n",
       "      <td>1971</td>\n",
       "      <td>1750.302963</td>\n",
       "    </tr>\n",
       "    <tr>\n",
       "      <th>1</th>\n",
       "      <td>48460</td>\n",
       "      <td>1001</td>\n",
       "      <td>21166.897880</td>\n",
       "    </tr>\n",
       "    <tr>\n",
       "      <th>2</th>\n",
       "      <td>92102</td>\n",
       "      <td>2596</td>\n",
       "      <td>2867.464408</td>\n",
       "    </tr>\n",
       "    <tr>\n",
       "      <th>3</th>\n",
       "      <td>7150</td>\n",
       "      <td>79</td>\n",
       "      <td>128373.393540</td>\n",
       "    </tr>\n",
       "    <tr>\n",
       "      <th>4</th>\n",
       "      <td>16180</td>\n",
       "      <td>369</td>\n",
       "      <td>688.424011</td>\n",
       "    </tr>\n",
       "    <tr>\n",
       "      <th>...</th>\n",
       "      <td>...</td>\n",
       "      <td>...</td>\n",
       "      <td>...</td>\n",
       "    </tr>\n",
       "    <tr>\n",
       "      <th>207</th>\n",
       "      <td>1397</td>\n",
       "      <td>35</td>\n",
       "      <td>19.905225</td>\n",
       "    </tr>\n",
       "    <tr>\n",
       "      <th>208</th>\n",
       "      <td>760</td>\n",
       "      <td>1</td>\n",
       "      <td>1827.771273</td>\n",
       "    </tr>\n",
       "    <tr>\n",
       "      <th>209</th>\n",
       "      <td>2082</td>\n",
       "      <td>606</td>\n",
       "      <td>99.756799</td>\n",
       "    </tr>\n",
       "    <tr>\n",
       "      <th>210</th>\n",
       "      <td>18239</td>\n",
       "      <td>367</td>\n",
       "      <td>1405.075428</td>\n",
       "    </tr>\n",
       "    <tr>\n",
       "      <th>211</th>\n",
       "      <td>11238</td>\n",
       "      <td>306</td>\n",
       "      <td>1025.033469</td>\n",
       "    </tr>\n",
       "  </tbody>\n",
       "</table>\n",
       "<p>212 rows × 3 columns</p>\n",
       "</div>"
      ],
      "text/plain": [
       "                         cases  deaths  \\\n",
       "countriesAndTerritories                  \n",
       "0                        49273    1971   \n",
       "1                        48460    1001   \n",
       "2                        92102    2596   \n",
       "3                         7150      79   \n",
       "4                        16180     369   \n",
       "...                        ...     ...   \n",
       "207                       1397      35   \n",
       "208                        760       1   \n",
       "209                       2082     606   \n",
       "210                      18239     367   \n",
       "211                      11238     306   \n",
       "\n",
       "                         Cumulative_number_for_14_days_of_COVID-19_cases_per_100000  \n",
       "countriesAndTerritories                                                              \n",
       "0                                                              1750.302963           \n",
       "1                                                             21166.897880           \n",
       "2                                                              2867.464408           \n",
       "3                                                            128373.393540           \n",
       "4                                                               688.424011           \n",
       "...                                                                    ...           \n",
       "207                                                              19.905225           \n",
       "208                                                            1827.771273           \n",
       "209                                                              99.756799           \n",
       "210                                                            1405.075428           \n",
       "211                                                            1025.033469           \n",
       "\n",
       "[212 rows x 3 columns]"
      ]
     },
     "execution_count": 41,
     "metadata": {},
     "output_type": "execute_result"
    }
   ],
   "source": [
    "#aggl"
   ]
  },
  {
   "cell_type": "code",
   "execution_count": null,
   "metadata": {},
   "outputs": [],
   "source": []
  }
 ],
 "metadata": {
  "colab": {
   "collapsed_sections": [],
   "name": "kMeans_clustering_LAOKO.ipynb",
   "provenance": []
  },
  "kernelspec": {
   "display_name": "Python 3",
   "language": "python",
   "name": "python3"
  },
  "language_info": {
   "codemirror_mode": {
    "name": "ipython",
    "version": 3
   },
   "file_extension": ".py",
   "mimetype": "text/x-python",
   "name": "python",
   "nbconvert_exporter": "python",
   "pygments_lexer": "ipython3",
   "version": "3.8.5"
  }
 },
 "nbformat": 4,
 "nbformat_minor": 1
}
